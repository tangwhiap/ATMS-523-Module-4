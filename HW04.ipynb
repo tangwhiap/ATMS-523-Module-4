{
 "cells": [
  {
   "cell_type": "code",
   "execution_count": 1,
   "id": "7577a9bf-5bb7-4162-89c5-d7217786b3ac",
   "metadata": {},
   "outputs": [],
   "source": [
    "#"
   ]
  },
  {
   "cell_type": "code",
   "execution_count": 6,
   "id": "4cb7c563-767e-4fc6-806d-20bb696f7806",
   "metadata": {},
   "outputs": [],
   "source": [
    "import numpy as np\n",
    "import xarray as xr\n",
    "import matplotlib.pyplot as plt"
   ]
  },
  {
   "cell_type": "code",
   "execution_count": 21,
   "id": "62a4f11e-86dc-483a-9187-266fbc781bcb",
   "metadata": {},
   "outputs": [],
   "source": [
    "ds = xr.open_dataset(\"data.nc\")\n",
    "ds_land_sea_mask = xr.open_dataset(\"land_sea_mask.nc\")\n",
    "lsm = ds_land_sea_mask[\"lsm\"][0]\n",
    "lsm = np.where(lsm <= 0.5, True, False)\n",
    "ds = ds.where(lsm)\n",
    "ds.to_netcdf(\"SST_TCWV_masked.nc\")"
   ]
  },
  {
   "cell_type": "code",
   "execution_count": 4,
   "id": "b1c6bd05-ad09-453c-844b-8a764273d244",
   "metadata": {},
   "outputs": [
    {
     "name": "stdout",
     "output_type": "stream",
     "text": [
      "<class 'xarray.core.dataset.Dataset'> ['sst', 'tcwv']\n"
     ]
    },
    {
     "name": "stderr",
     "output_type": "stream",
     "text": [
      "/Users/wenhant2/.conda/envs/xarray-climate/lib/python3.13/site-packages/dask/_task_spec.py:759: RuntimeWarning: invalid value encountered in divide\n",
      "  return self.func(*new_argspec)\n"
     ]
    }
   ],
   "source": [
    "def _time_as_float(time: xr.DataArray, time_dim: str) -> xr.DataArray:\n",
    "    # numeric seconds since first timestamp (keeps numbers small)\n",
    "    return (time - time.isel({time_dim: 0})).astype(\"timedelta64[s]\").astype(\"int64\").astype(\"float64\")\n",
    "\n",
    "def linear_detrend(obj: xr.DataArray | xr.Dataset, time_dim: str = \"time\") -> xr.DataArray | xr.Dataset:\n",
    "    \"\"\"\n",
    "    Remove a linear trend y ~ s*(t - t̄_valid) + ȳ_valid at each grid point.\n",
    "    Closed-form LS using reductions; dask-friendly; handles NaNs.\n",
    "    \"\"\"\n",
    "    t = _time_as_float(obj[time_dim], time_dim)  # (time,)\n",
    "    def _detrend_da(da: xr.DataArray) -> xr.DataArray:\n",
    "        da = da.sortby(time_dim).astype(\"float32\")\n",
    "        if hasattr(da.data, \"chunks\"):\n",
    "            da = da.chunk({time_dim: -1})  # one chunk along time\n",
    "        mask = da.notnull()                                # (time, ...)\n",
    "        t_b = t.broadcast_like(da)                         # (time, ...)\n",
    "        t_mean_valid = t_b.where(mask).mean(time_dim, skipna=True)\n",
    "        tc = t_b - t_mean_valid                            # centered time per point\n",
    "        num = (da * tc).sum(time_dim, skipna=True)\n",
    "        den = (tc**2).sum(time_dim, skipna=True)\n",
    "        slope = xr.where(den > 0, num / den, 0.0)\n",
    "        ybar  = da.mean(time_dim, skipna=True)\n",
    "        trend = slope * (t_b - t_mean_valid) + ybar\n",
    "        return (da - trend).astype(\"float32\")\n",
    "    return obj.map(_detrend_da) if isinstance(obj, xr.Dataset) else _detrend_da(obj)\n",
    "\n",
    "def monthly_anom_and_z(\n",
    "    detr: xr.DataArray | xr.Dataset,\n",
    "    time_dim: str = \"time\",\n",
    "    base_period: tuple[str, str] | None = None,\n",
    "    ddof: int = 1,\n",
    "    eps: float = 1e-6,\n",
    "):\n",
    "    \"\"\"\n",
    "    From linearly-detrended data, remove monthly climatology and compute monthly z-scores.\n",
    "    Returns (anom, z). Works for Dataset or DataArray.\n",
    "    \"\"\"\n",
    "    clim_src = detr if base_period is None else detr.sel({time_dim: slice(*base_period)})\n",
    "    key = f\"{time_dim}.month\"\n",
    "\n",
    "    clim_mean = clim_src.groupby(key).mean(time_dim, skipna=True)\n",
    "    anom = detr.groupby(key) - clim_mean\n",
    "\n",
    "    clim_std = clim_src.groupby(key).std(time_dim, skipna=True, ddof=ddof)\n",
    "    safe_std = xr.where(clim_std > eps, clim_std, np.nan)\n",
    "    z = anom.groupby(key) / safe_std\n",
    "    return anom, z\n",
    "\n",
    "\n",
    "# Example:\n",
    "# ds is a monthly ERA5 Dataset or DataArray with dimension \"time\"\n",
    "# If Dataset, all variables get processed; if DataArray, just that variable\n",
    "# ds = ds.chunk({\"time\": -1})  # optional: ensure time is a single chunk for speed\n",
    "# Optional: keep time in one chunk for speed\n",
    "ds = ds.chunk({\"valid_time\": -1})\n",
    "\n",
    "detr = linear_detrend(ds[[\"sst\", \"tcwv\"]], time_dim=\"valid_time\")   # or just ds if you want all float vars\n",
    "anom, z = monthly_anom_and_z(detr, time_dim=\"valid_time\",\n",
    "                             base_period=(\"1981-01-01\", \"2010-12-31\"))  # or None for full-period\n",
    "\n",
    "print(type(z), list(z.data_vars))   # should show a Dataset with ['sst','tcrw']\n"
   ]
  },
  {
   "cell_type": "code",
   "execution_count": 28,
   "id": "b71b4c88-c0b3-4f4a-a971-e2652652e0da",
   "metadata": {},
   "outputs": [
    {
     "name": "stderr",
     "output_type": "stream",
     "text": [
      "/Users/wenhant2/.conda/envs/xarray-climate/lib/python3.13/site-packages/numpy/lib/_nanfunctions_impl.py:2015: RuntimeWarning: Degrees of freedom <= 0 for slice.\n",
      "  var = nanvar(a, axis=axis, dtype=dtype, out=out, ddof=ddof,\n",
      "/Users/wenhant2/.conda/envs/xarray-climate/lib/python3.13/site-packages/numpy/lib/_nanfunctions_impl.py:2015: RuntimeWarning: Degrees of freedom <= 0 for slice.\n",
      "  var = nanvar(a, axis=axis, dtype=dtype, out=out, ddof=ddof,\n"
     ]
    }
   ],
   "source": [
    "sst_std = (ds[\"sst\"] - ds[\"sst\"].mean(dim = \"valid_time\")) / ds[\"sst\"].std(dim = \"valid_time\")\n",
    "tcwv_std = (ds[\"tcwv\"] - ds[\"tcwv\"].mean(dim = \"valid_time\")) / ds[\"tcwv\"].std(dim = \"valid_time\")"
   ]
  },
  {
   "cell_type": "code",
   "execution_count": null,
   "id": "b4ed2880-0de7-4924-9f52-c80898aee30e",
   "metadata": {},
   "outputs": [],
   "source": []
  }
 ],
 "metadata": {
  "kernelspec": {
   "display_name": "Python (xarray-climate)",
   "language": "python",
   "name": "xarray-climate"
  },
  "language_info": {
   "codemirror_mode": {
    "name": "ipython",
    "version": 3
   },
   "file_extension": ".py",
   "mimetype": "text/x-python",
   "name": "python",
   "nbconvert_exporter": "python",
   "pygments_lexer": "ipython3",
   "version": "3.13.7"
  }
 },
 "nbformat": 4,
 "nbformat_minor": 5
}
